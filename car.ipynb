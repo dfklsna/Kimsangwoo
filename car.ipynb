{
  "nbformat": 4,
  "nbformat_minor": 0,
  "metadata": {
    "colab": {
      "provenance": [],
      "authorship_tag": "ABX9TyOPZXcrn1smiWatXEf56EOy",
      "include_colab_link": true
    },
    "kernelspec": {
      "name": "python3",
      "display_name": "Python 3"
    },
    "language_info": {
      "name": "python"
    }
  },
  "cells": [
    {
      "cell_type": "markdown",
      "metadata": {
        "id": "view-in-github",
        "colab_type": "text"
      },
      "source": [
        "<a href=\"https://colab.research.google.com/github/dfklsna/sangwoo-Kim/blob/main/car.ipynb\" target=\"_parent\"><img src=\"https://colab.research.google.com/assets/colab-badge.svg\" alt=\"Open In Colab\"/></a>"
      ]
    },
    {
      "cell_type": "code",
      "execution_count": 67,
      "metadata": {
        "id": "VqyGIPY_CpZ9"
      },
      "outputs": [],
      "source": [
        "import pandas as pd\n",
        "import matplotlib.pyplot as plt\n",
        "import seaborn as sns\n",
        "import numpy as np\n",
        "\n",
        "\n",
        "targetUrl = \"https://raw.githubusercontent.com/dfklsna/sangwoo-Kim/main/auto-mpg.csv\"\n",
        "df = pd.read_csv(targetUrl, sep=';')"
      ]
    },
    {
      "cell_type": "code",
      "source": [
        "df.info()"
      ],
      "metadata": {
        "colab": {
          "base_uri": "https://localhost:8080/"
        },
        "id": "PzXWIt7XCzG6",
        "outputId": "c4486b4b-07cc-4e91-9049-269df29eb04c"
      },
      "execution_count": 68,
      "outputs": [
        {
          "output_type": "stream",
          "name": "stdout",
          "text": [
            "<class 'pandas.core.frame.DataFrame'>\n",
            "RangeIndex: 398 entries, 0 to 397\n",
            "Data columns (total 1 columns):\n",
            " #   Column                                                                                Non-Null Count  Dtype \n",
            "---  ------                                                                                --------------  ----- \n",
            " 0   mpg,cylinders,displacement,horsepower,weight,acceleration,model year,origin,car name  398 non-null    object\n",
            "dtypes: object(1)\n",
            "memory usage: 3.2+ KB\n"
          ]
        }
      ]
    },
    {
      "cell_type": "code",
      "source": [
        "df[['mpg', 'cylinders', 'displacement', 'horsepower', 'weight', 'acceleration', 'model year', 'origin', 'car name']] = df['mpg,cylinders,displacement,horsepower,weight,acceleration,model year,origin,car name'].str.split(',', expand=True)\n",
        "\n",
        "df.drop('mpg,cylinders,displacement,horsepower,weight,acceleration,model year,origin,car name', axis=1, inplace=True)\n",
        "df.info()"
      ],
      "metadata": {
        "colab": {
          "base_uri": "https://localhost:8080/"
        },
        "id": "85kro5mKEk3i",
        "outputId": "3f474be1-889d-49f4-e670-3e3f6a190054"
      },
      "execution_count": 69,
      "outputs": [
        {
          "output_type": "stream",
          "name": "stdout",
          "text": [
            "<class 'pandas.core.frame.DataFrame'>\n",
            "RangeIndex: 398 entries, 0 to 397\n",
            "Data columns (total 9 columns):\n",
            " #   Column        Non-Null Count  Dtype \n",
            "---  ------        --------------  ----- \n",
            " 0   mpg           398 non-null    object\n",
            " 1   cylinders     398 non-null    object\n",
            " 2   displacement  398 non-null    object\n",
            " 3   horsepower    398 non-null    object\n",
            " 4   weight        398 non-null    object\n",
            " 5   acceleration  398 non-null    object\n",
            " 6   model year    398 non-null    object\n",
            " 7   origin        398 non-null    object\n",
            " 8   car name      398 non-null    object\n",
            "dtypes: object(9)\n",
            "memory usage: 28.1+ KB\n"
          ]
        }
      ]
    },
    {
      "cell_type": "code",
      "source": [
        "df['origin'] = df['origin'].replace({1: '미국차', 2: '유럽차', 3: '일본차'})"
      ],
      "metadata": {
        "id": "wS-HJ0pSDLWe"
      },
      "execution_count": 70,
      "outputs": []
    },
    {
      "cell_type": "code",
      "source": [
        "from sklearn.linear_model import LinearRegression\n",
        "from sklearn.model_selection import cross_val_score\n",
        "from sklearn.metrics import mean_squared_error\n",
        "\n",
        "df = df.replace('?', np.nan)\n",
        "\n",
        "df = df.drop('car name', axis=1)\n",
        "\n",
        "df = df.dropna()\n",
        "\n",
        "X = df.drop('mpg', axis=1)\n",
        "y = df['mpg']\n",
        "\n",
        "neg_mse_scores = cross_val_score(LinearRegression(), X.fillna(X.mean(numeric_only=True)).values, y, scoring='neg_mean_squared_error', cv=5)\n",
        "\n",
        "mse_scores = -neg_mse_scores\n",
        "mean_mse = mse_scores.mean()\n",
        "\n",
        "print(\"Negative MSE Scores:\", neg_mse_scores)\n",
        "print(\"Mean MSE Score:\", mean_mse)"
      ],
      "metadata": {
        "colab": {
          "base_uri": "https://localhost:8080/"
        },
        "id": "McAPfo2WDpdq",
        "outputId": "c7907d6a-ddd3-4f5d-f958-190bc4ae4b63"
      },
      "execution_count": 71,
      "outputs": [
        {
          "output_type": "stream",
          "name": "stdout",
          "text": [
            "Negative MSE Scores: [-14.97430765 -10.90595243  -5.99170861 -15.58754466 -27.84474308]\n",
            "Mean MSE Score: 15.060851285619872\n"
          ]
        }
      ]
    },
    {
      "cell_type": "code",
      "source": [
        "from sklearn.model_selection import cross_val_score\n",
        "\n",
        "lr = LinearRegression()\n",
        "\n",
        "neg_mse_scores = cross_val_score(lr, X, y, scoring=\"neg_mean_squared_error\", cv=5)\n",
        "\n",
        "mse_scores = -neg_mse_scores\n",
        "\n",
        "mean_mse = mse_scores.mean()\n",
        "\n",
        "print(\"Negative MSE Scores:\", neg_mse_scores)\n",
        "print(\"Mean MSE Score:\", mean_mse)"
      ],
      "metadata": {
        "colab": {
          "base_uri": "https://localhost:8080/"
        },
        "id": "d-LxnO0UFnVa",
        "outputId": "669d843b-8c38-40d5-fef2-b34cb7ca072b"
      },
      "execution_count": 72,
      "outputs": [
        {
          "output_type": "stream",
          "name": "stdout",
          "text": [
            "Negative MSE Scores: [-14.97430765 -10.90595243  -5.99170861 -15.58754466 -27.84474308]\n",
            "Mean MSE Score: 15.060851285619856\n"
          ]
        }
      ]
    },
    {
      "cell_type": "code",
      "source": [
        "from sklearn.linear_model import Ridge\n",
        "from sklearn.model_selection import GridSearchCV\n",
        "from sklearn.preprocessing import PolynomialFeatures, StandardScaler\n",
        "from sklearn.pipeline import make_pipeline\n",
        "\n",
        "scaler = StandardScaler()\n",
        "X_scaled = scaler.fit_transform(X)\n",
        "\n",
        "pipeline = make_pipeline(PolynomialFeatures(degree=3), Ridge())\n",
        "\n",
        "param_grid = {'ridge__alpha': [0.0001, 0.001, 0.01, 0.1, 1, 10, 100]}\n",
        "\n",
        "grid_search = GridSearchCV(pipeline, param_grid, scoring='neg_mean_squared_error', cv=5)\n",
        "grid_search.fit(X_scaled, y)\n",
        "\n",
        "best_alpha = grid_search.best_params_['ridge__alpha']\n",
        "best_score = -grid_search.best_score_\n",
        "\n",
        "print(\"Best Alpha:\", best_alpha)\n",
        "print(\"Best Score (neg_mean_squared_error):\", best_score)"
      ],
      "metadata": {
        "colab": {
          "base_uri": "https://localhost:8080/"
        },
        "id": "8MHIiB5_HgSH",
        "outputId": "e9a692c5-c444-4fab-fd2e-2a1d1ff4129b"
      },
      "execution_count": 77,
      "outputs": [
        {
          "output_type": "stream",
          "name": "stdout",
          "text": [
            "Best Alpha: 10\n",
            "Best Score (neg_mean_squared_error): 10.055977603736377\n"
          ]
        }
      ]
    }
  ]
}