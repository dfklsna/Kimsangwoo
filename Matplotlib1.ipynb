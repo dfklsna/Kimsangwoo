{
  "nbformat": 4,
  "nbformat_minor": 0,
  "metadata": {
    "colab": {
      "private_outputs": true,
      "provenance": [],
      "authorship_tag": "ABX9TyPceXOG+VMNlk5xe6wo0Zk+",
      "include_colab_link": true
    },
    "kernelspec": {
      "name": "python3",
      "display_name": "Python 3"
    },
    "language_info": {
      "name": "python"
    }
  },
  "cells": [
    {
      "cell_type": "markdown",
      "metadata": {
        "id": "view-in-github",
        "colab_type": "text"
      },
      "source": [
        "<a href=\"https://colab.research.google.com/github/dfklsna/sangwoo-Kim/blob/main/Matplotlib1.ipynb\" target=\"_parent\"><img src=\"https://colab.research.google.com/assets/colab-badge.svg\" alt=\"Open In Colab\"/></a>"
      ]
    },
    {
      "cell_type": "code",
      "execution_count": null,
      "metadata": {
        "id": "yDWgtQiJEbNH"
      },
      "outputs": [],
      "source": [
        "people = ['Ann','Brandon','Chen','David','Emily','Farook',\n",
        "          'Gagan','Hamish','Imran','Julio','Katherine','Lily']\n",
        "age = [21,12,32,45,37,18,28,52,5,40,48,15]\n",
        "weight = [55,35,77,68,70,60,72,69,18,65,82,48]\n",
        "height = [160,135,170,165,173,168,175,159,105,171,155,158]"
      ]
    },
    {
      "cell_type": "markdown",
      "source": [
        "Matplotlib를 사용하기 위한 명령어"
      ],
      "metadata": {
        "id": "3jokqXp5GB_2"
      }
    },
    {
      "cell_type": "code",
      "source": [
        "import matplotlib.pyplot as plt"
      ],
      "metadata": {
        "id": "n4HtwnPMEhai"
      },
      "execution_count": null,
      "outputs": []
    },
    {
      "cell_type": "markdown",
      "source": [
        "x축에는 age를 y축에는 height인 산점도를 그리기"
      ],
      "metadata": {
        "id": "fSqHvrPGGs6s"
      }
    },
    {
      "cell_type": "code",
      "source": [
        "plt.scatter(age, height)\n",
        "plt.show()"
      ],
      "metadata": {
        "id": "sF8Tz3jvGS7X"
      },
      "execution_count": null,
      "outputs": []
    },
    {
      "cell_type": "code",
      "source": [
        "#그래프 사이즈 설정 figsize(가로길이,세로길이) 단위는 inch\n",
        "plt.figure(figsize=(8,6))\n",
        "\n",
        "# 그래프의 제목은 Plot of Age vs Height 이며 폰트사이즈는 20, 폰트는 italic\n",
        "plt.title(\"Plot of Age vs. Height (in cms)\\n\",fontsize=20, fontstyle='italic')\n",
        "\n",
        "# X- and Y-label with fontsize\n",
        "plt.xlabel(\"Age (years)\",fontsize=16)\n",
        "plt.ylabel(\"Height (cms)\",fontsize=16)\n",
        "\n",
        "# 격자그리기\n",
        "plt.grid (True) \n",
        "\n",
        "# y축 범위를 100에서 200으로 제한\n",
        "plt.ylim(100,200)\n",
        "\n",
        "# x의 눈금값의 범위를 5로 변경하고 x,y 눈금의 폰트사이즈를 15로 설정하기\n",
        "plt.xticks([i*5 for i in range(12)],fontsize=15)\n",
        "plt.yticks(fontsize=15)\n",
        "\n",
        "# Main plotting function with choice of color, marker size, and marker edge color\n",
        "plt.scatter(x=age,y=height,c='orange',s=150,edgecolors='k')\n",
        "\n",
        "# Adding bit of text to the plot\n",
        "plt.text(x=15,y=105,s=\"Height increaes up to around \\n20 years and then tapers off\",fontsize=15, \n",
        "         rotation=30, linespacing=2)\n",
        "plt.text(x=22,y=185,s=\"Nobody has a height beyond 180 cm\",fontsize=15)\n",
        "\n",
        "# (20,100)에서 (20,180)을 지나는 수직선을 파란색 파선, 폭은 3으로 그리기\n",
        "plt.vlines(x=20,ymin=100,ymax=180,linestyles='dashed',color='blue',lw=3)\n",
        "\n",
        "# (0,180)에서 (55,180)을 지나는 수평선을 빨간색 파선, 폭은 3으으로 그리기\n",
        "plt.hlines(y=180,xmin=0,xmax=55,linestyles='dashed',color='red',lw=3)\n",
        "\n",
        "# Adding a legend\n",
        "plt.legend(['Height in cms'],loc=2,fontsize=14)\n",
        "\n",
        "# 앞의 모든 조건을 만족하는 그래프를 화면에 보여주기\n",
        "plt.show()"
      ],
      "metadata": {
        "id": "4FP_FvBxLqTh"
      },
      "execution_count": null,
      "outputs": []
    },
    {
      "cell_type": "markdown",
      "source": [
        "x= 사람이름,  higet=높이를 weight, width=막대 그래프의 두께, color= 그래프의 색상, edgecolor= 막대의 테두리 색상, alpha=투명도"
      ],
      "metadata": {
        "id": "VQxzQkpr69Hi"
      }
    },
    {
      "cell_type": "code",
      "source": [
        "plt.figure(figsize=(12,4))\n",
        "plt.title(\"People's weight in kgs\",fontsize=18, fontstyle='italic')\n",
        "# Main plot function 'bar'\n",
        "plt.bar(x=people,height=weight, width=0.8,color='green',edgecolor='k',alpha=1)\n",
        "plt.xlabel(\"People\",fontsize=18)\n",
        "plt.xticks(fontsize=18,rotation=45)\n",
        "plt.yticks(fontsize=18)\n",
        "plt.ylabel(\"Weight (in kgs)\",fontsize=18)\n",
        "plt.show()"
      ],
      "metadata": {
        "id": "AcsgOc6TSdkn"
      },
      "execution_count": null,
      "outputs": []
    },
    {
      "cell_type": "markdown",
      "source": [
        "plt.figure= 그래프의 사이즈, plt.hist(weight,color='red',edgecolor='k', alpha=0.75,bins=5)=무게에 대한 히스토그램을 그래프의 색은  red로 테두리는 검정색, 투명도는 0.75, 5등분으로 나타내기"
      ],
      "metadata": {
        "id": "70VTrlel7ER9"
      }
    },
    {
      "cell_type": "code",
      "source": [
        "import numpy as np\n",
        "\n",
        "plt.figure(figsize=(7,5))\n",
        "\n",
        "# Main plot function 'hist'\n",
        "\n",
        "plt.hist(weight,color='blue',edgecolor='k', alpha=1,bins=5)\n",
        "plt.title(\"Histogram of patient weight\",fontsize=18)\n",
        "plt.xlabel(\"Weight in kgs\",fontsize=18)\n",
        "plt.xticks(fontsize=18)\n",
        "plt.yticks(fontsize=18)\n",
        "plt.show()"
      ],
      "metadata": {
        "id": "QglX8WmJb-Ca"
      },
      "execution_count": null,
      "outputs": []
    },
    {
      "cell_type": "markdown",
      "source": [
        "1일부터 30일까지 candidate_A와 B의 점수를 생성하는 코드. A는 50에서 0.07씩 증가하고 표준편차가 2인 정규분포에서 무작위로 추출된 30개의 수로 이루어진 배열, B는 50에서 0.1씩 감소하고 표준편차가 3인 정규분포에서 무작위로 추출된 30개의 수로 이루어진 배열"
      ],
      "metadata": {
        "id": "VgwLJF167MBJ"
      }
    },
    {
      "cell_type": "code",
      "source": [
        "days = np.arange(1,31)\n",
        "candidate_A = 50+days*0.07+2*np.random.randn(30)\n",
        "candidate_B = 50-days*0.1+3*np.random.randn(30)"
      ],
      "metadata": {
        "id": "b9ZMri4yeiE2"
      },
      "execution_count": null,
      "outputs": []
    },
    {
      "cell_type": "markdown",
      "source": [
        "candidate_A와 B의 최솟값과 최댓값을 구하는 코드"
      ],
      "metadata": {
        "id": "npdVCUHt9Jdu"
      }
    },
    {
      "cell_type": "code",
      "source": [
        "# Determine the minimum and maximum of stock prices\n",
        "ymin = min(candidate_A.min(),candidate_B.min())\n",
        "ymax = max(candidate_A.max(),candidate_B.max())"
      ],
      "metadata": {
        "id": "NTOYjv_D9Jnh"
      },
      "execution_count": null,
      "outputs": []
    },
    {
      "cell_type": "markdown",
      "source": [
        "fivethirtyeight의 그래프 스타일을 사용하는 코드. x축은 days, y축은 candidate_A 값을 가지고 파란색 라인의 두께는 2, 마커는 동그라미 모양에 크기가 10인 그래프를 그리기"
      ],
      "metadata": {
        "id": "RXQJjGDc9oEq"
      }
    },
    {
      "cell_type": "code",
      "source": [
        "# Set style\n",
        "plt.style.use('fivethirtyeight')\n",
        "\n",
        "plt.figure(figsize=(12,5))\n",
        "plt.title(\"Time series plot of poll percentage over a month\\n\",fontsize=20, fontstyle='italic')\n",
        "plt.xlabel(\"Days\",fontsize=16)\n",
        "plt.ylabel(\"Poll percentage (%)\",fontsize=16)\n",
        "plt.grid (True)\n",
        "plt.ylim(ymin*0.98,ymax*1.02)\n",
        "plt.xticks([i*2 for i in range(16)],fontsize=14)\n",
        "plt.yticks(fontsize=15)\n",
        "\n",
        "# Main plotting function - plot (note markersize, lw (linewidth) arguments)\n",
        "plt.plot(days,candidate_A,'o-',markersize=10,c='blue',lw=2)\n",
        "plt.plot(days,candidate_B,'^-',markersize=10,c='green',lw=2)\n",
        "\n",
        "plt.legend(['Poll percentage of candidate A (%)', 'Poll percentage of candidate B (%)'],loc=2,fontsize=14)\n",
        "plt.show()"
      ],
      "metadata": {
        "id": "ebnE-VWzBTAn"
      },
      "execution_count": null,
      "outputs": []
    },
    {
      "cell_type": "code",
      "source": [
        "# Set style\n",
        "plt.style.use('fivethirtyeight')\n",
        "\n",
        "plt.figure(figsize=(13,5))\n",
        "plt.title(\"Time series plot of poll percentage over a month\\n\",fontsize=18, fontstyle='italic')\n",
        "plt.xlabel(\"Days\",fontsize=18)\n",
        "plt.ylabel(\"Poll percentage (%)\",fontsize=18)\n",
        "plt.grid (True)\n",
        "plt.ylim(ymin*0.98,ymax*1.02)\n",
        "plt.xticks([i*2 for i in range(16)],fontsize=18)\n",
        "plt.yticks(fontsize=18)\n",
        "\n",
        "# Main plotting function - plot (note markersize, lw (linewidth) arguments)\n",
        "plt.plot(days,candidate_A,'o-',markersize=10,c='red',lw=2)\n",
        "plt.plot(days,candidate_B,'^-',markersize=10,c='yellow',lw=2)\n",
        "\n",
        "plt.legend(['Poll percentage of candidate A (%)', 'Poll percentage of candidate B (%)'],loc=2,fontsize=14)\n",
        "plt.show()"
      ],
      "metadata": {
        "id": "Nki-0AmP9oNF"
      },
      "execution_count": null,
      "outputs": []
    },
    {
      "cell_type": "markdown",
      "source": [
        "candidate_A 와 B에 대한 boxplot을 그리는 코드. showmeans=true는 각 박스에 평균값을 표시하는 명령어"
      ],
      "metadata": {
        "id": "1I-0avvB-8E6"
      }
    },
    {
      "cell_type": "code",
      "source": [
        "plt.style.use('ggplot')\n",
        "\n",
        "\n",
        "# Note how to convert default numerical x-axis ticks to the list of string by passing two lists \n",
        "plt.boxplot(x=[candidate_A,candidate_B],showmeans=True)\n",
        "plt.grid(True)\n",
        "plt.xticks([1,2],['Candidate A','Candidate B'])\n",
        "\n",
        "#plt.yticks(fontsize=15)\n",
        "\n",
        "plt.show()"
      ],
      "metadata": {
        "id": "t8aSkoPi-8UT"
      },
      "execution_count": null,
      "outputs": []
    },
    {
      "cell_type": "code",
      "source": [
        "import pandas as pd"
      ],
      "metadata": {
        "id": "FDsrYnnS_YKx"
      },
      "execution_count": null,
      "outputs": []
    },
    {
      "cell_type": "markdown",
      "source": [
        "wget에서 데이터를 다운로드하고 'Data'라는 폴더를 만들고 다운로드한 데이터를 해당 폴더에 이동시키는 코드"
      ],
      "metadata": {
        "id": "m6e1ZjsT_X9d"
      }
    },
    {
      "cell_type": "code",
      "source": [
        "!wget \"https://raw.githubusercontent.com/tirthajyoti/Stats_data_science_ValleyML/master/Notebooks/Data/wine.data.csv\"\n",
        "!wget \"https://raw.githubusercontent.com/tirthajyoti/Stats_data_science_ValleyML/master/Notebooks/Data/Height_Weight.xlsx\"\n",
        "\n",
        "! rm -rf Data\n",
        "!mkdir Data\n",
        "\n",
        "!mv wine.data.csv Data/\n",
        "!mv Height_Weight.xlsx Data/"
      ],
      "metadata": {
        "id": "HTM9vunM_cjF"
      },
      "execution_count": null,
      "outputs": []
    },
    {
      "cell_type": "markdown",
      "source": [
        "'Data' 폴더내부에 'wine.data.csv'파일을 읽어서 dataframe에 저장하는 코드"
      ],
      "metadata": {
        "id": "RUnMRUp9_3SS"
      }
    },
    {
      "cell_type": "code",
      "source": [
        "df = pd.read_csv('Data/wine.data.csv')"
      ],
      "metadata": {
        "id": "pR41IOjn_3he"
      },
      "execution_count": null,
      "outputs": []
    },
    {
      "cell_type": "code",
      "source": [
        "df.head()"
      ],
      "metadata": {
        "id": "vGsU0uecAGsl"
      },
      "execution_count": null,
      "outputs": []
    },
    {
      "cell_type": "code",
      "source": [
        "# Just to set the Matplotlib style to default\n",
        "import matplotlib as mpl\n",
        "mpl.rcParams.update(mpl.rcParamsDefault)"
      ],
      "metadata": {
        "id": "x-V_DW6aANYr"
      },
      "execution_count": null,
      "outputs": []
    },
    {
      "cell_type": "code",
      "source": [
        "df.plot.scatter('Alcohol','Color intensity')\n",
        "plt.show()"
      ],
      "metadata": {
        "id": "U3sNUEI8A2pz"
      },
      "execution_count": null,
      "outputs": []
    },
    {
      "cell_type": "code",
      "source": [
        "df.plot.scatter('Color intensity','Alcohol')\n",
        "plt.show()"
      ],
      "metadata": {
        "id": "bCf3UT0sAdGb"
      },
      "execution_count": null,
      "outputs": []
    },
    {
      "cell_type": "markdown",
      "source": [
        "'wine.data.csv'파일에서 'Alcohol'의 열값들을 히스토그램으로 나타내는 코드"
      ],
      "metadata": {
        "id": "KhEyLCAzBDVC"
      }
    },
    {
      "cell_type": "code",
      "source": [
        "df['Alcohol'].plot.hist(bins=20,figsize=(5,5),edgecolor='k')\n",
        "\n",
        "plt.xlabel('Alcohol percentage')\n",
        "plt.show()"
      ],
      "metadata": {
        "id": "bHZX0gKwBDbs"
      },
      "execution_count": null,
      "outputs": []
    },
    {
      "cell_type": "code",
      "source": [
        "df['Alcohol'].plot.hist(bins=40,figsize=(10,10),edgecolor='r')\n",
        "\n",
        "plt.xlabel('Alcohol percentage')\n",
        "plt.show()"
      ],
      "metadata": {
        "id": "OCXDBhT8Bz2f"
      },
      "execution_count": null,
      "outputs": []
    },
    {
      "cell_type": "markdown",
      "source": [
        "seaborn 데이터를 시각화하는 코드"
      ],
      "metadata": {
        "id": "a8BozE1BCBvr"
      }
    },
    {
      "cell_type": "code",
      "source": [
        "import seaborn as sns"
      ],
      "metadata": {
        "id": "MlOJW-ufCB3C"
      },
      "execution_count": null,
      "outputs": []
    },
    {
      "cell_type": "markdown",
      "source": [
        "각 Class 별 알코올 함량의 중간값과 사분위수를 박스 형태로 나타내고, 이상치를 점으로 표시한다."
      ],
      "metadata": {
        "id": "2tW5z-_7CYzO"
      }
    },
    {
      "cell_type": "code",
      "source": [
        "sns.boxplot(x='Class',y='Alcohol',data=df)\n",
        "plt.show()"
      ],
      "metadata": {
        "id": "g4auvxzmCZhf"
      },
      "execution_count": null,
      "outputs": []
    },
    {
      "cell_type": "markdown",
      "source": [
        "x축은 Alcohol, y축은 Class인 violinplot 그래프를 그리기"
      ],
      "metadata": {
        "id": "8YhtiCaTDWfd"
      }
    },
    {
      "cell_type": "code",
      "source": [
        "sns.violinplot(y='Class',x='Alcohol',data=df)\n",
        "plt.show()"
      ],
      "metadata": {
        "id": "GKAArDTpDWuE"
      },
      "execution_count": null,
      "outputs": []
    },
    {
      "cell_type": "code",
      "source": [
        "sns.regplot(x='Alcohol',y='Color intensity',data=df)\n",
        "plt.show()"
      ],
      "metadata": {
        "id": "oC5pLmF7D72w"
      },
      "execution_count": null,
      "outputs": []
    },
    {
      "cell_type": "code",
      "source": [
        "sns.lmplot(x='Alcohol',y='Color intensity',hue='Class',data=df)\n",
        "plt.show()"
      ],
      "metadata": {
        "id": "6KiVaar_D-bg"
      },
      "execution_count": null,
      "outputs": []
    },
    {
      "cell_type": "code",
      "source": [
        "import numpy as np"
      ],
      "metadata": {
        "id": "NGwCBeB5ECa1"
      },
      "execution_count": null,
      "outputs": []
    },
    {
      "cell_type": "markdown",
      "source": [
        "df의 행들을 열별로 상호간 상관관계를 계산하여 corr_mat에 저장하는 코드"
      ],
      "metadata": {
        "id": "Is23DZ-7JO46"
      }
    },
    {
      "cell_type": "code",
      "source": [
        "corr_mat=np.corrcoef(df,rowvar=False)"
      ],
      "metadata": {
        "id": "tHUFdANEJO_7"
      },
      "execution_count": null,
      "outputs": []
    },
    {
      "cell_type": "markdown",
      "source": [
        "corr_mat은 상관행열이므로 nxn 행렬이므로 shape는 (n,n) 이다."
      ],
      "metadata": {
        "id": "PoQdYwNhJ3If"
      }
    },
    {
      "cell_type": "code",
      "source": [
        "corr_mat.shape"
      ],
      "metadata": {
        "id": "vsL-Kk9pJ3QV"
      },
      "execution_count": null,
      "outputs": []
    },
    {
      "cell_type": "markdown",
      "source": [
        "corr_mat을 dataframe으로 변환하여 corr_df에 저장하는 코드. 'columns'와 'index' 에는 해당 dataframe에서 열과 행의 이름으로 지정한다."
      ],
      "metadata": {
        "id": "WVXwdOTUKOYS"
      }
    },
    {
      "cell_type": "code",
      "source": [
        "corr_df = pd.DataFrame(corr_mat,columns=df.columns,index=df.columns)"
      ],
      "metadata": {
        "id": "1U9ASP2GKOff"
      },
      "execution_count": null,
      "outputs": []
    },
    {
      "cell_type": "markdown",
      "source": [
        "numpy 라이브러리의 'round'함수를 사용하여 corr_mat 배열의 모든 원소를 소수 셋째 자리에서 반올림한 값을 출력하는 코드"
      ],
      "metadata": {
        "id": "hzCgGygFK2hF"
      }
    },
    {
      "cell_type": "code",
      "source": [
        "print(np.round(corr_mat,3))"
      ],
      "metadata": {
        "id": "fdLrz9cLK2md"
      },
      "execution_count": null,
      "outputs": []
    },
    {
      "cell_type": "code",
      "source": [
        "sns.heatmap(corr_df,linewidth=1,cmap='YlGnBu')\n",
        "plt.show()"
      ],
      "metadata": {
        "id": "eMIUMaqNLOch"
      },
      "execution_count": null,
      "outputs": []
    }
  ]
}