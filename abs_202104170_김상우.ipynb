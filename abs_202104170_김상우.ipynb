{
  "nbformat": 4,
  "nbformat_minor": 0,
  "metadata": {
    "colab": {
      "provenance": [],
      "authorship_tag": "ABX9TyOvtNml4GxcZkgEmxWlhRzc",
      "include_colab_link": true
    },
    "kernelspec": {
      "name": "python3",
      "display_name": "Python 3"
    },
    "language_info": {
      "name": "python"
    }
  },
  "cells": [
    {
      "cell_type": "markdown",
      "metadata": {
        "id": "view-in-github",
        "colab_type": "text"
      },
      "source": [
        "<a href=\"https://colab.research.google.com/github/dfklsna/sangwoo-Kim/blob/main/abs_202104170_%EA%B9%80%EC%83%81%EC%9A%B0.ipynb\" target=\"_parent\"><img src=\"https://colab.research.google.com/assets/colab-badge.svg\" alt=\"Open In Colab\"/></a>"
      ]
    },
    {
      "cell_type": "markdown",
      "source": [
        "## 절대값 알고리즘1\n",
        "\n",
        "---"
      ],
      "metadata": {
        "id": "BgT2kLn7sHeN"
      }
    },
    {
      "cell_type": "code",
      "source": [
        "import time\n",
        "import math\n",
        "\n",
        "# 절대값 알고리즘 1\n",
        "def abs_sign(a):\n",
        "    if a >= 0:\n",
        "        return a\n",
        "    else:\n",
        "        return -a\n",
        "\n",
        "# 절대값 알고리즘 2\n",
        "def abs_square(a):\n",
        "    b = a * a\n",
        "    return math.sqrt(b)\n",
        "\n",
        "# 알고리즘 1의 실행 시간 측정\n",
        "start_time = time.time()\n",
        "for i in range(1000):\n",
        "    result1 = abs_sign(5)\n",
        "    result2 = abs_sign(-3)\n",
        "end_time = time.time()\n",
        "elapsed_time_1 = end_time - start_time\n",
        "\n",
        "# 알고리즘 2의 실행 시간 측정\n",
        "start_time = time.time()\n",
        "for i in range(1000):\n",
        "    result1 = abs_square(5)\n",
        "    result2 = abs_square(-3)\n",
        "end_time = time.time()\n",
        "elapsed_time_2 = end_time - start_time\n",
        "\n",
        "# 실행 시간 출력\n",
        "print(\"절대값 알고리즘1 시간:\", elapsed_time_1, \"초\")\n",
        "print(\"절대값 알고리즘2 시간:\", elapsed_time_2, \"초\")\n"
      ],
      "metadata": {
        "colab": {
          "base_uri": "https://localhost:8080/"
        },
        "id": "OQLxj-G4sb8U",
        "outputId": "c19da28a-15b2-4154-df43-e2d365d906b6"
      },
      "execution_count": 17,
      "outputs": [
        {
          "output_type": "stream",
          "name": "stdout",
          "text": [
            "절대값 알고리즘1 시간: 0.007003068923950195 초\n",
            "절대값 알고리즘2 시간: 0.0012094974517822266 초\n"
          ]
        }
      ]
    }
  ]
}