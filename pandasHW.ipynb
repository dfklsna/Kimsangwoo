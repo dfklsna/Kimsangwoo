{
  "nbformat": 4,
  "nbformat_minor": 0,
  "metadata": {
    "colab": {
      "private_outputs": true,
      "provenance": [],
      "authorship_tag": "ABX9TyP8AZyKkfhsbtYD6WkMltZl",
      "include_colab_link": true
    },
    "kernelspec": {
      "name": "python3",
      "display_name": "Python 3"
    },
    "language_info": {
      "name": "python"
    }
  },
  "cells": [
    {
      "cell_type": "markdown",
      "metadata": {
        "id": "view-in-github",
        "colab_type": "text"
      },
      "source": [
        "<a href=\"https://colab.research.google.com/github/dfklsna/sangwoo-Kim/blob/main/pandasHW.ipynb\" target=\"_parent\"><img src=\"https://colab.research.google.com/assets/colab-badge.svg\" alt=\"Open In Colab\"/></a>"
      ]
    },
    {
      "cell_type": "markdown",
      "source": [
        "os 모듈을 이용하여 현재 작업중인 디렉토리를 /content/로 변경하고 해당 디렉토리 내의 파일 목록을 출력하는 코드"
      ],
      "metadata": {
        "id": "I-WnWlrfjvXp"
      }
    },
    {
      "cell_type": "code",
      "execution_count": null,
      "metadata": {
        "id": "aUb5AARQjo5J"
      },
      "outputs": [],
      "source": [
        "import os\n",
        "\n",
        "os.chdir('/content/')\n",
        "\n",
        "print(os.getcwd()) \n",
        "\n",
        "print(os.listdir()) \n",
        "\n",
        "os.chdir('/content/sample_data/')\n",
        "\n",
        "print(os.listdir())"
      ]
    },
    {
      "cell_type": "markdown",
      "source": [
        "targeUrl에 저장된 파일을 dataframe의 df2로 저장하는 코드"
      ],
      "metadata": {
        "id": "lJ7ot6imk-Be"
      }
    },
    {
      "cell_type": "code",
      "source": [
        "### 와~ pandas\n",
        "\n",
        "import pandas as pd\n",
        "\n",
        "\n",
        "targetUrl = \"https://raw.githubusercontent.com/gundaminpde/2022/main/gapminder_sample.tsv\"\n",
        "\n",
        "df2 = pd.read_csv(targetUrl, sep='\\t')"
      ],
      "metadata": {
        "id": "dBLCQOgolBnR"
      },
      "execution_count": null,
      "outputs": []
    },
    {
      "cell_type": "markdown",
      "source": [
        "dataframe의 df2에서 상위 5개의 행을 출력하는 코드"
      ],
      "metadata": {
        "id": "sTeHPFfZr-6y"
      }
    },
    {
      "cell_type": "code",
      "source": [
        "print(df2.head( ))"
      ],
      "metadata": {
        "id": "z7fjhLelr_Kj"
      },
      "execution_count": null,
      "outputs": []
    },
    {
      "cell_type": "markdown",
      "source": [
        "dataframe의 df2의 데이터 유형을 출력하는 코드"
      ],
      "metadata": {
        "id": "6Sweq05WtIEE"
      }
    },
    {
      "cell_type": "code",
      "source": [
        "print(type(df2))"
      ],
      "metadata": {
        "id": "tRNABk3atIK9"
      },
      "execution_count": null,
      "outputs": []
    },
    {
      "cell_type": "markdown",
      "source": [
        "dataframe의 df2의 행과 열의 개수를 출력하는 코드"
      ],
      "metadata": {
        "id": "UH6-tLXAtzoq"
      }
    },
    {
      "cell_type": "code",
      "source": [
        "print(df2.shape)"
      ],
      "metadata": {
        "id": "i0vU_Rnltzv8"
      },
      "execution_count": null,
      "outputs": []
    },
    {
      "cell_type": "markdown",
      "source": [
        "dataframe의 df2의 열 레이블을 출력하는 코드"
      ],
      "metadata": {
        "id": "wnGrg4ZYuXu7"
      }
    },
    {
      "cell_type": "code",
      "source": [
        "print( df2.columns)"
      ],
      "metadata": {
        "id": "PUSUCIouuYjK"
      },
      "execution_count": null,
      "outputs": []
    },
    {
      "cell_type": "markdown",
      "source": [
        "dataframe의 df2의 각 열의 데이터 유형을 출력하는 코드"
      ],
      "metadata": {
        "id": "2lx9ezf9u9rN"
      }
    },
    {
      "cell_type": "code",
      "source": [
        "print(df2.dtypes)"
      ],
      "metadata": {
        "id": "W6kmACxXu-Yf"
      },
      "execution_count": null,
      "outputs": []
    },
    {
      "cell_type": "markdown",
      "source": [
        "dataframe의 df2의 정보를 출력하는 코드"
      ],
      "metadata": {
        "id": "MhbtCi8-yvpX"
      }
    },
    {
      "cell_type": "code",
      "source": [
        "print(df2.info())"
      ],
      "metadata": {
        "id": "DQ0a52__y0Kq"
      },
      "execution_count": null,
      "outputs": []
    },
    {
      "cell_type": "markdown",
      "source": [
        "해당 사이트에 있는 파일을 복제하고, 해당파일을 dataframe의 df3으로 읽는 코드"
      ],
      "metadata": {
        "id": "SYC-4GThy_jY"
      }
    },
    {
      "cell_type": "code",
      "source": [
        "!git clone https://github.com/gundaminpde/chow.git\n",
        "\n",
        "df3 = pd.read_csv(\"./chow/ThoraricSurgery.csv\", sep=',') \n",
        "\n",
        "print(df3.head())"
      ],
      "metadata": {
        "id": "d6D0fWyEy_u0"
      },
      "execution_count": null,
      "outputs": []
    },
    {
      "cell_type": "markdown",
      "source": [
        "dataframe의 df2에서 \"country\" 열의 데이터만 선택하여 countary_df에 저장하고 이 변수의 데이터 타입과 상위 5개의 행과 하위 5개의 행을 출력하기"
      ],
      "metadata": {
        "id": "za8WpCkbzfCE"
      }
    },
    {
      "cell_type": "code",
      "source": [
        "print(df2.head())\n",
        "\n",
        "print(\" \")\n",
        "\n",
        "countary_df=df2[\"country\"]\n",
        "\n",
        "print(type(countary_df)) \n",
        "\n",
        "print(countary_df.head())\n",
        "\n",
        "print(countary_df.tail())\n"
      ],
      "metadata": {
        "id": "64VJhymOzfRB"
      },
      "execution_count": null,
      "outputs": []
    },
    {
      "cell_type": "markdown",
      "source": [
        "dataframe의 df2에서 \"country\", 'continent', 'year' 열 데이터를 subset_df에 저장하고 이 변수의 타입과 상위 5개의 행과 하위 5개의 행을 출력하기"
      ],
      "metadata": {
        "id": "cLY0R6uw1B0e"
      }
    },
    {
      "cell_type": "code",
      "source": [
        "subset_df=df2[[\"country\", 'continent', 'year']]\n",
        "\n",
        "print(type(subset_df)) \n",
        "\n",
        "print(subset_df.head())\n",
        "\n",
        "print(subset_df.tail())\n"
      ],
      "metadata": {
        "id": "tnhbxHlq1CBO"
      },
      "execution_count": null,
      "outputs": []
    },
    {
      "cell_type": "code",
      "source": [
        "print(df2.head())"
      ],
      "metadata": {
        "id": "QiIB6Bw81lbl"
      },
      "execution_count": null,
      "outputs": []
    },
    {
      "cell_type": "markdown",
      "source": [
        "df2에서 행의 인덱스가 0인 데이터를 출력하는 코드"
      ],
      "metadata": {
        "id": "GfIsfW5n1lRq"
      }
    },
    {
      "cell_type": "code",
      "source": [
        "print(df2.loc[0])  "
      ],
      "metadata": {
        "id": "QheOI9ZE1qlj"
      },
      "execution_count": null,
      "outputs": []
    },
    {
      "cell_type": "markdown",
      "source": [
        "df2에서 첫 번째 행의 데이터를 출력하는 코드"
      ],
      "metadata": {
        "id": "shNvs8782NF1"
      }
    },
    {
      "cell_type": "code",
      "source": [
        "print(df2.iloc[0])"
      ],
      "metadata": {
        "id": "CXqdVV462NRg"
      },
      "execution_count": null,
      "outputs": []
    },
    {
      "cell_type": "markdown",
      "source": [
        "마지막 행의 데이터를 출력하는 방법들"
      ],
      "metadata": {
        "id": "30GtidUy3Arc"
      }
    },
    {
      "cell_type": "code",
      "source": [
        "number_rows = df2.shape[0]\n",
        "\n",
        "print(df2.shape)\n",
        "\n",
        "last_row_index = number_rows - 1\n",
        "\n",
        "print(df2.loc[last_row_index])\n",
        "\n",
        "\n",
        "print(\" \")\n",
        "\n",
        "## 또 다른 방법, tail(n=1)\n",
        "\n",
        "print(\"또 다른 방법, tail(n=1)\")\n",
        "\n",
        "print(df2.tail(n=1))"
      ],
      "metadata": {
        "id": "P73QYpNt3A4i"
      },
      "execution_count": null,
      "outputs": []
    },
    {
      "cell_type": "markdown",
      "source": [
        "df2에서 인덱스가 0, 20, 30인 행의 데이터를 선택하여 출력하는 코드"
      ],
      "metadata": {
        "id": "kWo3bcg43j4l"
      }
    },
    {
      "cell_type": "code",
      "source": [
        "print(df2.loc[[0,20,30]]) "
      ],
      "metadata": {
        "id": "AcWEKr_33kCy"
      },
      "execution_count": null,
      "outputs": []
    },
    {
      "cell_type": "markdown",
      "source": [
        "df2에서 인덱스가 0부터 4까지인 행의 데이터를 선택하여 출력하는 코드"
      ],
      "metadata": {
        "id": "DvUn2kAk3w84"
      }
    },
    {
      "cell_type": "code",
      "source": [
        "print(df2.loc[0:4])"
      ],
      "metadata": {
        "id": "SZrtWE_W3xEO"
      },
      "execution_count": null,
      "outputs": []
    },
    {
      "cell_type": "markdown",
      "source": [
        "iloc는 행의 위치를 이용하고 loc는 인덱스의 값이 -1인 것의 데이터를 선택한다. pandas에선 음수를 지원하지 않기에 에러가 발생한다."
      ],
      "metadata": {
        "id": "sSRLPqUn35gh"
      }
    },
    {
      "cell_type": "code",
      "source": [
        "## iloc[-1]는 가능, loc[-1]는 불가능\n",
        "\n",
        "\n",
        "print(df2.iloc[-1])\n",
        "\n",
        "print(df2.loc[-1])"
      ],
      "metadata": {
        "id": "qvi609Jv35o7"
      },
      "execution_count": null,
      "outputs": []
    },
    {
      "cell_type": "markdown",
      "source": [
        "df2에서 'year', 'pop' 열을 새로운 subset1을 만들고, 2,4,-1, 위치에 해당하는 열을 새로운 subset2를 만든다."
      ],
      "metadata": {
        "id": "COB2X8s45Hug"
      }
    },
    {
      "cell_type": "code",
      "source": [
        "subset1 = df2.loc[:,['year' ,'pop']]\n",
        "\n",
        "print(subset1.head() )\n",
        "\n",
        "\n",
        "subset2 = df2.iloc[:,[2,4,-1]]\n",
        "\n",
        "print(subset2.head() )"
      ],
      "metadata": {
        "id": "TsJXXv075H2O"
      },
      "execution_count": null,
      "outputs": []
    },
    {
      "cell_type": "markdown",
      "source": [
        "(0,6,2)와 [0:6:2]는 같은 0,2,4열을 선택한다."
      ],
      "metadata": {
        "id": "XC0xij9g6Nny"
      }
    },
    {
      "cell_type": "code",
      "source": [
        "subset3 = df2.iloc[:,range(0,6,2)]\n",
        "\n",
        "print(subset3.head() )\n",
        "\n",
        "subset4 = df2.iloc[:, 0:6:2]\n",
        "\n",
        "print(subset4.head() )\n"
      ],
      "metadata": {
        "id": "Q6JJkYZ-6Nz7"
      },
      "execution_count": null,
      "outputs": []
    },
    {
      "cell_type": "markdown",
      "source": [
        "첫번째는 1,100,1000번째 행과 0,3,5번째 열을 추출했고, 두번째는 10~13번째 행과 'country', 'lifeExp', 'gdpPercap'열을 추출했다."
      ],
      "metadata": {
        "id": "A5gYJhem6_y8"
      }
    },
    {
      "cell_type": "code",
      "source": [
        "print(df2.iloc[[0,99,999],[0,3,5]])  \n",
        "\n",
        "print(df2.loc[10:13,['country','lifeExp','gdpPercap']])"
      ],
      "metadata": {
        "id": "eMwzDzCg6_6h"
      },
      "execution_count": null,
      "outputs": []
    },
    {
      "cell_type": "markdown",
      "source": [
        "df2에서 1~10번째 행을 출력하고, 'year'열을 기준으로 데이터를 그룹화하고, 'lifeExp'열의 평균값을 계산하여 출력하기"
      ],
      "metadata": {
        "id": "DaphqUaN7wOp"
      }
    },
    {
      "cell_type": "code",
      "source": [
        "### groupby()\n",
        "\n",
        "print(df2.head(n=10))\n",
        "\n",
        "\n",
        "print(df2.groupby('year')['lifeExp'].mean())"
      ],
      "metadata": {
        "id": "aW8tmLl77wVk"
      },
      "execution_count": null,
      "outputs": []
    },
    {
      "cell_type": "markdown",
      "source": [
        "df2.groupby('year')['lifeExp'].mean()의 뜻을 풀어서 설명"
      ],
      "metadata": {
        "id": "jcIrwLK19Chy"
      }
    },
    {
      "cell_type": "code",
      "source": [
        "### 위의 코드를 풀어서 설명하면...\n",
        "\n",
        "df2_groupby_year = df2.groupby('year')\n",
        "print(df2_groupby_year)\n",
        "##print(df2_groupby_year.head())\n",
        "\n",
        "too_long = df2_groupby_year['lifeExp']\n",
        "\n",
        "too_long.mean()\n"
      ],
      "metadata": {
        "id": "wB1YsYm09CqO"
      },
      "execution_count": null,
      "outputs": []
    },
    {
      "cell_type": "markdown",
      "source": [
        "'continent'으로 그룹화하고 'country'의 수를 계산하여 출력"
      ],
      "metadata": {
        "id": "iebU64Ey9Xhs"
      }
    },
    {
      "cell_type": "code",
      "source": [
        "print(df2.groupby('continent')['country'].nunique())"
      ],
      "metadata": {
        "id": "8mcvE7si9XpJ"
      },
      "execution_count": null,
      "outputs": []
    },
    {
      "cell_type": "markdown",
      "source": [
        "matplotlib로 그래프 그리기 \n",
        "or은 빨간색 점으로 표시하는 코드"
      ],
      "metadata": {
        "id": "9ws1sDfw9rzM"
      }
    },
    {
      "cell_type": "code",
      "source": [
        "### matplotlib inline <==jupyter notebook용 그래프그리기 __매직함수magic method__\n",
        "\n",
        "\n",
        "import matplotlib.pyplot as plt\n",
        "\n",
        "year_lifeExpectancy = df2.groupby('year')['lifeExp'].mean()\n",
        "\n",
        "print(year_lifeExpectancy)\n",
        "\n",
        "year_lifeExpectancy.plot()\n",
        "\n",
        "plt.show()\n",
        "\n",
        "plt.plot(year_lifeExpectancy,'or')"
      ],
      "metadata": {
        "id": "n_416UWv9r4y"
      },
      "execution_count": null,
      "outputs": []
    },
    {
      "cell_type": "markdown",
      "source": [
        "시리즈 생성, index를 통해 각 데이터가 무엇을 의미하는지 레이블을 지정할 수 있다"
      ],
      "metadata": {
        "id": "qoxS8_zJ-oO3"
      }
    },
    {
      "cell_type": "code",
      "source": [
        "import pandas as pd\n",
        "\n",
        "A_series = pd.Series(['와','어이',123 ])\n",
        "\n",
        "print(A_series)\n",
        "\n",
        "print('')\n",
        "\n",
        "B_series = pd.Series(['우와','자동차',123 ], index = [\"감탄사\",\"명사\", '숫자'])\n",
        "\n",
        "print(B_series)"
      ],
      "metadata": {
        "id": "mSO0m5bP-oWa"
      },
      "execution_count": null,
      "outputs": []
    },
    {
      "cell_type": "markdown",
      "source": [
        "A_D_frame=dataframe 생성하는 코드. 이름, 키, 몸무게, 인기 4개의 열을 갖는 행렬"
      ],
      "metadata": {
        "id": "s5OlehdB--4l"
      }
    },
    {
      "cell_type": "code",
      "source": [
        "A_D_frame = pd.DataFrame({ \n",
        "    '이름':['뽀로로', '포비', '에디' ],\n",
        "    '키(m)':[1.2 , 2.1, 1.4],\n",
        "    '몸무게': ['가벼움', '무거움', '보통'],\n",
        "    '인기': ['많음', '보통', '보통']}\n",
        ")\n",
        "\n",
        "print(A_D_frame)"
      ],
      "metadata": {
        "id": "cKHKx6_x-_AF"
      },
      "execution_count": null,
      "outputs": []
    },
    {
      "cell_type": "markdown",
      "source": [
        "B_D_frame=dataframe 에서 데이터 값과 인덱스 레이블을 지정하여 생성하는 코드. 키, 몸무게, 인기 3개의 열을 갖는 행렬"
      ],
      "metadata": {
        "id": "8VQ09pIZ_uhb"
      }
    },
    {
      "cell_type": "code",
      "source": [
        "B_D_frame = pd.DataFrame(\n",
        "    data={ '키(m)':[1.2 , 2.1, 1.4],\n",
        "          '몸무게': ['가벼움', '무거움', '보통'],\n",
        "          '인기': ['많음', '보통', '보통']},\n",
        "    index= ['뽀로로', '포비', '에디'],\n",
        "    columns=[\"키(m)\",\"몸무게\",\"인기\"]\n",
        ")\n",
        "\n",
        "print(B_D_frame)"
      ],
      "metadata": {
        "id": "60g0E3s9_up8"
      },
      "execution_count": null,
      "outputs": []
    },
    {
      "cell_type": "markdown",
      "source": [
        "C_D_frame=입력된 '이름', '키', '몸무게', '인기' 순서대로 열을 만드는 코드"
      ],
      "metadata": {
        "id": "Zd4T6i7rABI6"
      }
    },
    {
      "cell_type": "code",
      "source": [
        "from collections import OrderedDict\n",
        "\n",
        "C_D_frame = pd.DataFrame(OrderedDict([\n",
        "    ('이름',['뽀로로', '포비', '에디' ]),\n",
        "    ('키(m)',[1.2 , 2.1, 1.4]),\n",
        "    ('몸무게', ['가벼움', '무거움', '보통']),\n",
        "    ('인기', ['많음', '보통', '보통'])\n",
        "])\n",
        ")\n",
        "\n",
        "print(C_D_frame)"
      ],
      "metadata": {
        "id": "8AgMDUBuABQE"
      },
      "execution_count": null,
      "outputs": []
    },
    {
      "cell_type": "markdown",
      "source": [
        "D_D_frame='뽀로로'행에 해당하는 데이터의 '키', '몸무게', '인기'의 열의값을 출력하는 코드"
      ],
      "metadata": {
        "id": "co796qmtA2dq"
      }
    },
    {
      "cell_type": "code",
      "source": [
        "D_D_frame = pd.DataFrame(\n",
        "    data={ '키(m)':[1.2 , 2.1, 1.4],\n",
        "          '몸무게': ['가벼움', '무거움', '보통'],\n",
        "          '인기': ['많음', '보통', '보통']},\n",
        "    index= ['뽀로로', '포비', '에디'],\n",
        "    columns=[\"키(m)\",\"몸무게\",\"인기\"]\n",
        ")\n",
        "\n",
        "first_row = D_D_frame.loc['뽀로로']\n",
        "\n",
        "print(first_row)"
      ],
      "metadata": {
        "id": "CcvLye30A2nD"
      },
      "execution_count": null,
      "outputs": []
    },
    {
      "cell_type": "markdown",
      "source": [
        "인덱스의 첫 번째 행을 출력하는 코드"
      ],
      "metadata": {
        "id": "OfKUF-RbBmpv"
      }
    },
    {
      "cell_type": "code",
      "source": [
        "print(first_row.index)"
      ],
      "metadata": {
        "id": "6lOx_2g2Bmvw"
      },
      "execution_count": null,
      "outputs": []
    },
    {
      "cell_type": "markdown",
      "source": [
        "첫 번째 행의 값들을 출력하는 코드"
      ],
      "metadata": {
        "id": "drSGkfNvBzzL"
      }
    },
    {
      "cell_type": "code",
      "source": [
        "print(first_row.values)"
      ],
      "metadata": {
        "id": "T0l3-YweBz6n"
      },
      "execution_count": null,
      "outputs": []
    },
    {
      "cell_type": "markdown",
      "source": [
        "index에 해당하는 첫번째 행의 키를 출력하는 코드"
      ],
      "metadata": {
        "id": "iK-HMbGgCLYl"
      }
    },
    {
      "cell_type": "code",
      "source": [
        "print(first_row.keys())"
      ],
      "metadata": {
        "id": "hUFo95H9CLfc"
      },
      "execution_count": null,
      "outputs": []
    },
    {
      "cell_type": "markdown",
      "source": [
        "첫번째 인덱스의 값, 두번째 열의 이름, 두번째 값을 출력"
      ],
      "metadata": {
        "id": "Y4aQij0AC16J"
      }
    },
    {
      "cell_type": "code",
      "source": [
        "print(first_row.index[0])\n",
        "\n",
        "print(first_row.keys()[1])\n",
        "\n",
        "print(first_row.values[1])"
      ],
      "metadata": {
        "id": "cdEtXVW1C2AX"
      },
      "execution_count": null,
      "outputs": []
    },
    {
      "cell_type": "markdown",
      "source": [
        "D_D_frame에서 키 열의 데이터를 height에 저장 후, 최댓값, 최솟값, 평균값, 표준편차를 출력한다"
      ],
      "metadata": {
        "id": "KNRuREabHZ9H"
      }
    },
    {
      "cell_type": "code",
      "source": [
        "height=D_D_frame['키(m)']\n",
        "\n",
        "print(height)\n",
        "\n",
        "print(height.max())\n",
        "\n",
        "print(height.min())\n",
        "\n",
        "print(height.mean())\n",
        "\n",
        "print(height.std())  # standard deviation = std"
      ],
      "metadata": {
        "id": "1tsiUHA9HaGO"
      },
      "execution_count": null,
      "outputs": []
    },
    {
      "cell_type": "markdown",
      "source": [
        "targeUrl을 불러와 pd.read_csv 함수를 사용하여 scientists에 저장하고 상위 10개의 행을 출력한다."
      ],
      "metadata": {
        "id": "wpU0r4i2H4TN"
      }
    },
    {
      "cell_type": "code",
      "source": [
        "import pandas as pd\n",
        "\n",
        "targetUrl_sci= \"https://raw.githubusercontent.com/gundaminpde/2022/main/scientists.csv\"\n",
        "\n",
        "scientists = pd.read_csv(targetUrl_sci)\n",
        "\n",
        "scientists.head(n=10)"
      ],
      "metadata": {
        "id": "2NOxC0PeH4ai"
      },
      "execution_count": null,
      "outputs": []
    },
    {
      "cell_type": "markdown",
      "source": [
        "scientists dataframe에서 'Age\"열에 해당하는 데티터를 추출하고 최댓값,평균값도 출력한다."
      ],
      "metadata": {
        "id": "gesuKJEbIVx4"
      }
    },
    {
      "cell_type": "code",
      "source": [
        "ages = scientists['Age']\n",
        "\n",
        "print(ages.max())\n",
        "print(ages.mean())"
      ],
      "metadata": {
        "id": "-eTLxbWiIV44"
      },
      "execution_count": null,
      "outputs": []
    },
    {
      "cell_type": "markdown",
      "source": [
        "'ages'에서 평균보다 큰 값을 가지는 값만 추출하여 출력하고 2번째 코드는 크면 true, 작으면 false로 나타낸다"
      ],
      "metadata": {
        "id": "wY7AUTo6ItNf"
      }
    },
    {
      "cell_type": "code",
      "source": [
        "print(ages[ages > ages.mean()])\n",
        "\n",
        "print(ages > ages.mean())"
      ],
      "metadata": {
        "id": "bqU4klV1ItT0"
      },
      "execution_count": null,
      "outputs": []
    },
    {
      "cell_type": "markdown",
      "source": [
        "scientists에서 'Age'열의 값이 평균보다 큰 행만 추출하는 코드"
      ],
      "metadata": {
        "id": "bpT4RcUzJOaV"
      }
    },
    {
      "cell_type": "code",
      "source": [
        "print(scientists[ scientists['Age'] > scientists['Age'].mean() ]) ## 불린 추출"
      ],
      "metadata": {
        "id": "jiZUZoIuJPKh"
      },
      "execution_count": null,
      "outputs": []
    },
    {
      "cell_type": "markdown",
      "source": [
        "scientists 에서 'Age'열 출력, 'Born', 'Died'열의 데이터 타입을 출력하는 코드"
      ],
      "metadata": {
        "id": "3JKBXriqJ1-9"
      }
    },
    {
      "cell_type": "code",
      "source": [
        "print(scientists['Age'])\n",
        "\n",
        "print(scientists['Born'].dtype) \n",
        "\n",
        "print(scientists['Died'].dtype)"
      ],
      "metadata": {
        "id": "p4pZxUI1J1OV"
      },
      "execution_count": null,
      "outputs": []
    },
    {
      "cell_type": "markdown",
      "source": [
        "'Born'열의 값을datetime으로 변환해주는 코드"
      ],
      "metadata": {
        "id": "5puVSh7iKMUm"
      }
    },
    {
      "cell_type": "code",
      "source": [
        "born_datetime = pd.to_datetime(scientists['Born'],format='%Y-%m-%d')\n",
        "\n",
        "print(born_datetime)\n",
        "\n",
        "changed_one=born_datetime.dt.strftime('%m/%d/%Y')\n",
        "\n",
        "print(changed_one)"
      ],
      "metadata": {
        "id": "u9sbXIbMKMdL"
      },
      "execution_count": null,
      "outputs": []
    },
    {
      "cell_type": "markdown",
      "source": [
        "died의 datatime을 추가하는 코드"
      ],
      "metadata": {
        "id": "ClpOdlDQLCIn"
      }
    },
    {
      "cell_type": "code",
      "source": [
        "died_datatime = pd.to_datetime(scientists['Died'],format='%Y-%m-%d')\n",
        "\n",
        "print(died_datatime)\n",
        "\n",
        "scientists['Born_dt'], scientists['Died_dt'] = (born_datetime, died_datatime)\n",
        "\n",
        "\n",
        "print(scientists.head())"
      ],
      "metadata": {
        "id": "GVV2fuFNLCUt"
      },
      "execution_count": null,
      "outputs": []
    },
    {
      "cell_type": "markdown",
      "source": [
        "scientists의 태어난 날짜와 죽은 날짜를 기반으로 life_days라는 새로운 열을 추가하는 코드"
      ],
      "metadata": {
        "id": "hwLAprhtLQJ-"
      }
    },
    {
      "cell_type": "code",
      "source": [
        "scientists['life_days'] =  scientists['Died_dt'] - scientists['Born_dt']\n",
        "\n",
        "print(scientists)"
      ],
      "metadata": {
        "id": "IZUNWUAqLQR-"
      },
      "execution_count": null,
      "outputs": []
    },
    {
      "cell_type": "markdown",
      "source": [
        "shuffle함수로 무작위로 다시 섞은 뒤 다시 출력하는 코드"
      ],
      "metadata": {
        "id": "UJipc5-7LmdJ"
      }
    },
    {
      "cell_type": "code",
      "source": [
        "print(scientists['Age'])\n",
        "\n",
        "import random\n",
        "\n",
        "random.seed(2)\n",
        "\n",
        "random.shuffle(scientists['Age'])\n",
        "\n",
        "print(scientists['Age'])\n",
        "\n",
        "print(scientists.iloc[:,0:4])"
      ],
      "metadata": {
        "id": "qDT9CIXbLmpO"
      },
      "execution_count": null,
      "outputs": []
    },
    {
      "cell_type": "markdown",
      "source": [
        "디렉토리를 /content/로 변경하고 scientists의 dataframe에서 'Name'열을 추출하여 pickle파일로 저장하고 'return_names'로 저장 후 출력한다"
      ],
      "metadata": {
        "id": "5pszWVIrL3MG"
      }
    },
    {
      "cell_type": "code",
      "source": [
        "## 피클로 만들어 저장하고 꺼내오기.\n",
        "\n",
        "import os\n",
        "\n",
        "print(os.getcwd())\n",
        "\n",
        "os.chdir('/content/')\n",
        "\n",
        "names = scientists['Name']\n",
        "\n",
        "names.to_pickle('../content/scientists_names.pickle')\n",
        "\n",
        "return_names = pd.read_pickle('../content//scientists_names.pickle')\n",
        "\n",
        "print(return_names)"
      ],
      "metadata": {
        "id": "wwdBv1-5L3SY"
      },
      "execution_count": null,
      "outputs": []
    },
    {
      "cell_type": "markdown",
      "source": [
        "concat함수를 이용해 df_King, df_Whang, df_ZZang를 연결, axis=0인 경우 행 방향, axis=1인 경우 열 방향으로 연결되어 데이터가 합쳐진다"
      ],
      "metadata": {
        "id": "vW_cZG0FMora"
      }
    },
    {
      "cell_type": "code",
      "source": [
        "# Creating data frames\n",
        "df_King = pd.DataFrame({'A': ['A0', 'A1', 'A2', 'A3'],\n",
        "                        'B': ['B0', 'B1', 'B2', 'B3'],\n",
        "                        'C': ['C0', 'C1', 'C2', 'C3'],\n",
        "                        'D': ['D0', 'D1', 'D2', 'D3']},\n",
        "                        index=[0, 1, 2, 3])\n",
        "\n",
        "df_Whang = pd.DataFrame({'A': ['A4', 'A5', 'A6', 'A7'],\n",
        "                        'B': ['B4', 'B5', 'B6', 'B7'],\n",
        "                        'C': ['C4', 'C5', 'C6', 'C7'],\n",
        "                        'D': ['D4', 'D5', 'D6', 'D7']},\n",
        "                         index=[0, 1, 2, 3])\n",
        "\n",
        "df_ZZnag = pd.DataFrame({'A': ['A8', 'A9', 'A10', 'A11'],\n",
        "                        'B': ['B8', 'B9', 'B10', 'B11'],\n",
        "                        'C': ['C8', 'C9', 'C10', 'C11'],\n",
        "                        'D': ['D8', 'D9', 'D10', 'D11']},\n",
        "                        index=[0, 1, 2, 3])\n",
        "\n",
        "print(\"\\nThe DataFrame number 1\\n\",'-'*30, sep='')\n",
        "print(df_King)\n",
        "print(\"\\nThe DataFrame number 2\\n\",'-'*30, sep='')\n",
        "print(df_Whang)\n",
        "print(\"\\nThe DataFrame number 3\\n\",'-'*30, sep='')\n",
        "print(df_ZZnag)\n",
        "\n",
        "### 아래가 하고 싶은 것\n",
        "\n",
        "df_cat_A = pd.concat([df_King,df_Whang,df_ZZnag], axis=0)\n",
        "print(\"\\nAfter concatenation along row\\n\",'-'*30, sep='')\n",
        "print(df_cat_A)\n",
        "\n",
        "df_cat_B = pd.concat([df_King,df_Whang,df_ZZnag], axis=1)\n",
        "print(\"\\nAfter concatenation along column\\n\",'-'*60, sep='')\n",
        "print(df_cat_B)"
      ],
      "metadata": {
        "id": "HotPq_12Mo1y"
      },
      "execution_count": null,
      "outputs": []
    },
    {
      "cell_type": "markdown",
      "source": [
        "iris 데이터셋을 seaborn으로 불러오고 irisData의 마지막 5개의 행을 출력한다"
      ],
      "metadata": {
        "id": "LZrYpVS-NZ52"
      }
    },
    {
      "cell_type": "code",
      "source": [
        "import seaborn as sns\n",
        "\n",
        "targetUrl_iris=\"https://raw.githubusercontent.com/gundaminpde/2022/main/iris.csv\"\n",
        "\n",
        "irisData = pd.read_csv(targetUrl_iris)\n",
        "\n",
        "print(irisData.shape)\n",
        "\n",
        "print(irisData.head())\n",
        "\n",
        "irisData.tail()"
      ],
      "metadata": {
        "id": "S7ybvRSbNaAH"
      },
      "execution_count": null,
      "outputs": []
    },
    {
      "cell_type": "markdown",
      "source": [
        "irisData의 Sepal_Length와 Sepal_Width에 대한 산점도를 그리는 코드. 'Species' 열을 기준으로 색상별로 구분하여 출력"
      ],
      "metadata": {
        "id": "OoZfbMuhOJEW"
      }
    },
    {
      "cell_type": "code",
      "source": [
        "sns.set_theme()\n",
        "sns.set(rc={\"figure.dpi\":300}) #이미지 품질 설정\n",
        "sns.set(rc={\"figure.figsize\":(6,3)}) ## 크기설정\n",
        "\n",
        "\n",
        "## Scatter plot 산점도\n",
        "\n",
        "sns.scatterplot(x=\"Sepal_Length\", y =\"Sepal_Width\", data=irisData, hue ='Species')"
      ],
      "metadata": {
        "id": "GvJbhnd-OJM_"
      },
      "execution_count": null,
      "outputs": []
    },
    {
      "cell_type": "markdown",
      "source": [
        "y축을 Petal_Length로 설정하고 빈도수를 x축에 나타내는 히스토그램을 그리는 코드"
      ],
      "metadata": {
        "id": "dZzyn-DeOnEU"
      }
    },
    {
      "cell_type": "code",
      "source": [
        "## 히스토그램 histogram\n",
        "\n",
        "sns.histplot( y= \"Petal_Length\", data = irisData)"
      ],
      "metadata": {
        "id": "Wh8oq6rLOnJ4"
      },
      "execution_count": null,
      "outputs": []
    },
    {
      "cell_type": "markdown",
      "source": [
        "Petal_Length를 x축, 빈도수를 y축에 나타낸 히스토그램을 그리는 코드"
      ],
      "metadata": {
        "id": "JlN5W-4-O5YC"
      }
    },
    {
      "cell_type": "code",
      "source": [
        "sns.histplot( x= \"Petal_Length\", data = irisData)"
      ],
      "metadata": {
        "id": "HcNmuBiNO5gW"
      },
      "execution_count": null,
      "outputs": []
    },
    {
      "cell_type": "markdown",
      "source": [
        "kde는 Kernel Density Estimation으로 커널밀도추정 곡선을 그리는 코드"
      ],
      "metadata": {
        "id": "ssC_M7-fPH6L"
      }
    },
    {
      "cell_type": "code",
      "source": [
        "sns.histplot( x= \"Petal_Length\", data = irisData, kde = \"True\")"
      ],
      "metadata": {
        "id": "zocQalMZPIAA"
      },
      "execution_count": null,
      "outputs": []
    },
    {
      "cell_type": "markdown",
      "source": [
        "Species 별로 Petal_Length의 분포를 나타내는 히스토그램을 그리는 코드"
      ],
      "metadata": {
        "id": "T3gmO_vvPWfR"
      }
    },
    {
      "cell_type": "code",
      "source": [
        "sns.histplot( x= \"Petal_Length\", data = irisData, hue = \"Species\")"
      ],
      "metadata": {
        "id": "hj9c1pRTPWnE"
      },
      "execution_count": null,
      "outputs": []
    },
    {
      "cell_type": "markdown",
      "source": [
        "sns.barplot은 x와 y축에 변수를 지정하여 각 범주별로 평균값을 시각화한 코드"
      ],
      "metadata": {
        "id": "nVL3xC_lPlG4"
      }
    },
    {
      "cell_type": "code",
      "source": [
        "## Barplot : 숫자 변수의 경향 추청치를 보여준다.\n",
        "\n",
        "sns.barplot(x=\"Species\", y=\"Petal_Width\", data =irisData)"
      ],
      "metadata": {
        "id": "yiSnBbGEPlUJ"
      },
      "execution_count": null,
      "outputs": []
    },
    {
      "cell_type": "markdown",
      "source": [
        "Box plot을 이용하여 x축엔 Species, y축엔Sepal_Length인 그래프를 그리는 코드"
      ],
      "metadata": {
        "id": "yNxmPh7_P8Ij"
      }
    },
    {
      "cell_type": "code",
      "source": [
        "## Box plot\n",
        "\n",
        "sns.boxplot(x=\"Species\", y=\"Sepal_Length\", data=irisData)"
      ],
      "metadata": {
        "id": "tju0DxBBP8Oi"
      },
      "execution_count": null,
      "outputs": []
    },
    {
      "cell_type": "code",
      "source": [
        "## sns.boxplot(x=\"Species\", y=\"Sepal_Length\", data=irisData, hue=\"group\") data에 group이 없다."
      ],
      "metadata": {
        "id": "1A7gvos_QU6M"
      },
      "execution_count": null,
      "outputs": []
    }
  ]
}